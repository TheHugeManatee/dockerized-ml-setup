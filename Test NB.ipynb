{
 "cells": [
  {
   "cell_type": "markdown",
   "metadata": {},
   "source": [
    "# Pytorch/CUDA Setup test"
   ]
  },
  {
   "cell_type": "code",
   "execution_count": 1,
   "metadata": {},
   "outputs": [],
   "source": [
    "import torch"
   ]
  },
  {
   "cell_type": "markdown",
   "metadata": {},
   "source": [
    "### Check if CUDA is available"
   ]
  },
  {
   "cell_type": "code",
   "execution_count": 2,
   "metadata": {},
   "outputs": [
    {
     "data": {
      "text/plain": [
       "True"
      ]
     },
     "execution_count": 2,
     "metadata": {},
     "output_type": "execute_result"
    }
   ],
   "source": [
    "torch.cuda.is_available()"
   ]
  },
  {
   "cell_type": "markdown",
   "metadata": {},
   "source": [
    "### List some info about your devices"
   ]
  },
  {
   "cell_type": "code",
   "execution_count": 3,
   "metadata": {},
   "outputs": [
    {
     "name": "stdout",
     "output_type": "stream",
     "text": [
      "CUDA Devices: 2\n"
     ]
    }
   ],
   "source": [
    "ndevices = torch.cuda.device_count()\n",
    "print(f\"CUDA Devices: {ndevices}\")"
   ]
  },
  {
   "cell_type": "code",
   "execution_count": 4,
   "metadata": {},
   "outputs": [
    {
     "name": "stdout",
     "output_type": "stream",
     "text": [
      "Device 0: TITAN RTX, Cap. 7.5\n",
      "Device 1: TITAN RTX, Cap. 7.5\n"
     ]
    }
   ],
   "source": [
    "for dev in range(ndevices):\n",
    "    name = torch.cuda.get_device_name(device=dev)\n",
    "    (major,minor) = torch.cuda.get_device_capability(device=dev)\n",
    "    print(f\"Device {dev}: {name}, Cap. {major}.{minor}\")"
   ]
  },
  {
   "cell_type": "markdown",
   "metadata": {},
   "source": [
    "### Set a password"
   ]
  },
  {
   "cell_type": "markdown",
   "metadata": {},
   "source": [
    "### Set a new password\n",
    "Run the following cell to generate a new password hash. (I used `asdf` as an example)\n",
    "\n",
    "You can use the hash in your `Dockerfile` in the **CMD** like this:\n",
    "```Dockerfile\n",
    "CMD [\"jupyter\", \"notebook\", \"--notebook-dir=/code\", \"--NotebookApp.password='sha1:c7e6e0960789:076aa53621717f7be7eede61a95fd9772ec74784'\"]\n",
    "```\n",
    "\n",
    "After you have changed your `Dockerfile`, you have to rebuild your container by running `docker compose up --build`"
   ]
  },
  {
   "cell_type": "code",
   "execution_count": 5,
   "metadata": {
    "scrolled": true
   },
   "outputs": [
    {
     "name": "stdout",
     "output_type": "stream",
     "text": [
      "Enter password: ········\n",
      "Verify password: ········\n"
     ]
    },
    {
     "data": {
      "text/plain": [
       "'sha1:6c10ab9338bb:b61ac6241792362a84300a14ee9fb6634cb22455'"
      ]
     },
     "execution_count": 5,
     "metadata": {},
     "output_type": "execute_result"
    }
   ],
   "source": [
    "from notebook.auth import passwd\n",
    "passwd()"
   ]
  },
  {
   "cell_type": "code",
   "execution_count": null,
   "metadata": {},
   "outputs": [],
   "source": []
  }
 ],
 "metadata": {
  "kernelspec": {
   "display_name": "Python 3",
   "language": "python",
   "name": "python3"
  },
  "language_info": {
   "codemirror_mode": {
    "name": "ipython",
    "version": 3
   },
   "file_extension": ".py",
   "mimetype": "text/x-python",
   "name": "python",
   "nbconvert_exporter": "python",
   "pygments_lexer": "ipython3",
   "version": "3.6.9"
  }
 },
 "nbformat": 4,
 "nbformat_minor": 2
}
